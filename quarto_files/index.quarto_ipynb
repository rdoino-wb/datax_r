{
  "cells": [
    {
      "cell_type": "markdown",
      "metadata": {},
      "source": [
        "---\n",
        "title: \"Welcome to the DataTax R Course\"\n",
        "format: \n",
        "  html\n",
        "---\n",
        "\n",
        "\n",
        "# Welcome to the DataTax R Course\n",
        "\n",
        "Dive into the world of **R programming** and its applications in tax data analytics! This course is designed to help you master data import/export, manipulation, visualization, and modeling techniques.\n",
        "\n",
        "---\n",
        "\n",
        "## 📚 Explore the Course Content\n",
        "\n",
        "\n",
        "\n",
        "``` {html}\n",
        "<section style=\"display: flex; gap: 20px; justify-content: center; flex-wrap: wrap;\">\n",
        "  <div style=\"background-color: #f8f9fa; padding: 15px; border-radius: 8px; width: 200px; text-align: center;\">\n",
        "    <a href=\"1_Introduction_to_R.qmd\" style=\"text-decoration: none; color: #007bff;\">\n",
        "      <strong>Introduction to R</strong>\n",
        "    </a>\n",
        "  </div>\n",
        "  <div style=\"background-color: #f8f9fa; padding: 15px; border-radius: 8px; width: 200px; text-align: center;\">\n",
        "    <a href=\"2_import_export.qmd\" style=\"text-decoration: none; color: #007bff;\">\n",
        "      <strong>Data Import/Export</strong>\n",
        "    </a>\n",
        "  </div>\n",
        "</section>\n",
        "```"
      ],
      "id": "b57927d9"
    }
  ],
  "metadata": {
    "kernelspec": {
      "display_name": "Python 3",
      "language": "python",
      "name": "python3"
    }
  },
  "nbformat": 4,
  "nbformat_minor": 5
}